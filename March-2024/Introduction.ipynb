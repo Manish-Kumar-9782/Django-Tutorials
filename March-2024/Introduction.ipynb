{
 "cells": [
  {
   "cell_type": "markdown",
   "id": "60030fb1-e386-4778-a33a-bff9c416cc9a",
   "metadata": {},
   "source": [
    "## Introduction to the Python\n",
    "\n"
   ]
  },
  {
   "cell_type": "code",
   "execution_count": 8,
   "id": "9e179dd7-a5d2-4bf4-a23c-8a1e30e83379",
   "metadata": {},
   "outputs": [],
   "source": [
    "a = 20\n",
    "# declaring a variable named by a"
   ]
  },
  {
   "cell_type": "code",
   "execution_count": 5,
   "id": "956dc035-b5ad-45b2-a93e-eb171bac2085",
   "metadata": {},
   "outputs": [],
   "source": [
    "b = 20"
   ]
  },
  {
   "cell_type": "code",
   "execution_count": 6,
   "id": "087604b5-6bac-4307-a4ef-1307e94d9d3f",
   "metadata": {},
   "outputs": [
    {
     "data": {
      "text/plain": [
       "40"
      ]
     },
     "execution_count": 6,
     "metadata": {},
     "output_type": "execute_result"
    }
   ],
   "source": [
    "a+b"
   ]
  },
  {
   "cell_type": "markdown",
   "id": "6fb65608-d9f1-4683-8713-388a16ee723e",
   "metadata": {},
   "source": [
    "## 1. Operators\n",
    "\n",
    "1. Arithmatic Operators\n",
    "2. Assignment Operators\n",
    "3. Comparision Opeartors\n",
    "4. Logical Operator\n",
    "5. identity operator\n",
    "6. membership operator"
   ]
  },
  {
   "cell_type": "markdown",
   "id": "b3ff0bf4-9b96-4c56-97d2-ca1adc281e87",
   "metadata": {},
   "source": [
    "#### Arithmatic Operators"
   ]
  },
  {
   "cell_type": "code",
   "execution_count": 1,
   "id": "4afeb3d2-0fa4-467a-beb1-852396f06d07",
   "metadata": {},
   "outputs": [],
   "source": [
    "a = 10\n",
    "b = 20"
   ]
  },
  {
   "cell_type": "code",
   "execution_count": 3,
   "id": "342823dc-0295-49c6-b9e2-cc7b70b9520e",
   "metadata": {},
   "outputs": [
    {
     "data": {
      "text/plain": [
       "30"
      ]
     },
     "execution_count": 3,
     "metadata": {},
     "output_type": "execute_result"
    }
   ],
   "source": [
    "# add opearator\n",
    "a+b"
   ]
  },
  {
   "cell_type": "code",
   "execution_count": 4,
   "id": "179701b7-1e37-4911-a35a-f154bae7ff43",
   "metadata": {},
   "outputs": [
    {
     "data": {
      "text/plain": [
       "-10"
      ]
     },
     "execution_count": 4,
     "metadata": {},
     "output_type": "execute_result"
    }
   ],
   "source": [
    "# minus operator\n",
    "a - b"
   ]
  },
  {
   "cell_type": "code",
   "execution_count": 5,
   "id": "edb2b829-59f6-4f95-b191-c6ea9b44d028",
   "metadata": {},
   "outputs": [
    {
     "data": {
      "text/plain": [
       "200"
      ]
     },
     "execution_count": 5,
     "metadata": {},
     "output_type": "execute_result"
    }
   ],
   "source": [
    "# mulitply operator\n",
    "a * b"
   ]
  },
  {
   "cell_type": "code",
   "execution_count": 6,
   "id": "c4a3a8e2-46dc-4d85-aee4-6cf3bb1189f6",
   "metadata": {},
   "outputs": [
    {
     "data": {
      "text/plain": [
       "0.5"
      ]
     },
     "execution_count": 6,
     "metadata": {},
     "output_type": "execute_result"
    }
   ],
   "source": [
    "# divide operator\n",
    "a /b"
   ]
  },
  {
   "cell_type": "code",
   "execution_count": 7,
   "id": "7b10a878-5a4a-4d82-9d04-d3f3e02885b0",
   "metadata": {},
   "outputs": [
    {
     "data": {
      "text/plain": [
       "100"
      ]
     },
     "execution_count": 7,
     "metadata": {},
     "output_type": "execute_result"
    }
   ],
   "source": [
    "## power operator\n",
    "a ** 2"
   ]
  },
  {
   "cell_type": "code",
   "execution_count": 8,
   "id": "53ecee3a-6dbe-4997-97ef-76c0a91df2fd",
   "metadata": {},
   "outputs": [
    {
     "data": {
      "text/plain": [
       "1000"
      ]
     },
     "execution_count": 8,
     "metadata": {},
     "output_type": "execute_result"
    }
   ],
   "source": [
    "a** 3"
   ]
  },
  {
   "cell_type": "code",
   "execution_count": 9,
   "id": "145200cf-7438-4b25-9701-716ded6537a9",
   "metadata": {},
   "outputs": [
    {
     "data": {
      "text/plain": [
       "0.5"
      ]
     },
     "execution_count": 9,
     "metadata": {},
     "output_type": "execute_result"
    }
   ],
   "source": [
    "# floor division operator\n",
    "a/b"
   ]
  },
  {
   "cell_type": "code",
   "execution_count": 10,
   "id": "806e05f1-1d9b-49a9-84d1-f8694c1510b3",
   "metadata": {},
   "outputs": [
    {
     "data": {
      "text/plain": [
       "0"
      ]
     },
     "execution_count": 10,
     "metadata": {},
     "output_type": "execute_result"
    }
   ],
   "source": [
    "a//b"
   ]
  },
  {
   "cell_type": "code",
   "execution_count": 11,
   "id": "0f980f4d-613a-4cc9-9afa-d1ad7ef6abe4",
   "metadata": {},
   "outputs": [
    {
     "data": {
      "text/plain": [
       "2"
      ]
     },
     "execution_count": 11,
     "metadata": {},
     "output_type": "execute_result"
    }
   ],
   "source": [
    "b//a"
   ]
  },
  {
   "cell_type": "code",
   "execution_count": 12,
   "id": "b144a2dd-893f-4c69-aa42-44bd2c162c80",
   "metadata": {},
   "outputs": [
    {
     "data": {
      "text/plain": [
       "2.0"
      ]
     },
     "execution_count": 12,
     "metadata": {},
     "output_type": "execute_result"
    }
   ],
   "source": [
    "b/a"
   ]
  },
  {
   "cell_type": "code",
   "execution_count": 13,
   "id": "7cf0d088-a983-4463-ab8c-9968563aa2c3",
   "metadata": {},
   "outputs": [],
   "source": [
    "b = 30\n",
    "a = 4"
   ]
  },
  {
   "cell_type": "code",
   "execution_count": 14,
   "id": "0a249522-26d0-4037-956c-04dfbfe7802b",
   "metadata": {},
   "outputs": [
    {
     "data": {
      "text/plain": [
       "7.5"
      ]
     },
     "execution_count": 14,
     "metadata": {},
     "output_type": "execute_result"
    }
   ],
   "source": [
    "b/a"
   ]
  },
  {
   "cell_type": "code",
   "execution_count": 15,
   "id": "f4f1e6b7-8b24-4ff5-906e-f843a17e4d89",
   "metadata": {},
   "outputs": [
    {
     "data": {
      "text/plain": [
       "7"
      ]
     },
     "execution_count": 15,
     "metadata": {},
     "output_type": "execute_result"
    }
   ],
   "source": [
    "b//a"
   ]
  },
  {
   "cell_type": "code",
   "execution_count": 18,
   "id": "88c818bc-ed7e-46a0-9841-a40cb8c98299",
   "metadata": {},
   "outputs": [
    {
     "data": {
      "text/plain": [
       "20"
      ]
     },
     "execution_count": 18,
     "metadata": {},
     "output_type": "execute_result"
    }
   ],
   "source": [
    "# modulus operator (%)\n",
    "a% b"
   ]
  },
  {
   "cell_type": "code",
   "execution_count": 20,
   "id": "52352777-bb42-4a3d-a14f-f0b0203513af",
   "metadata": {},
   "outputs": [
    {
     "data": {
      "text/plain": [
       "(20, 30)"
      ]
     },
     "execution_count": 20,
     "metadata": {},
     "output_type": "execute_result"
    }
   ],
   "source": [
    "a,b"
   ]
  },
  {
   "cell_type": "code",
   "execution_count": 21,
   "id": "160e88e7-56fc-427a-a588-2101b1324761",
   "metadata": {},
   "outputs": [
    {
     "data": {
      "text/plain": [
       "10"
      ]
     },
     "execution_count": 21,
     "metadata": {},
     "output_type": "execute_result"
    }
   ],
   "source": [
    "b%a"
   ]
  },
  {
   "cell_type": "markdown",
   "id": "6ffbcbfe-562c-4657-862b-0b21323c57ce",
   "metadata": {},
   "source": [
    "____________\n",
    "____________"
   ]
  },
  {
   "cell_type": "markdown",
   "id": "b2f6bf5c-d330-4a5b-ab5f-4e7e2acbfc67",
   "metadata": {},
   "source": [
    "#### Assignment Operator"
   ]
  },
  {
   "cell_type": "code",
   "execution_count": 16,
   "id": "cc8f3a0d-de6d-47fa-8270-7a89056a3a57",
   "metadata": {},
   "outputs": [],
   "source": [
    "# simple assignment operator (=)\n",
    "a = 20 # assigning the 20 to a"
   ]
  },
  {
   "cell_type": "code",
   "execution_count": 17,
   "id": "f92a2586-9d5e-4cf6-8e8a-7762fa7d8f63",
   "metadata": {},
   "outputs": [
    {
     "data": {
      "text/plain": [
       "20"
      ]
     },
     "execution_count": 17,
     "metadata": {},
     "output_type": "execute_result"
    }
   ],
   "source": [
    "a"
   ]
  },
  {
   "cell_type": "markdown",
   "id": "0c302ab4-7e46-48d1-8f88-c7951cd5ba4b",
   "metadata": {},
   "source": [
    "assignment operator with arithmatic operators.\n",
    "\n",
    "1. += plus and assignment operator\n",
    "2. -= minus and assignment operator\n",
    "3. /= divide and assignment operator\n",
    "4. *= multiply and assignment operator\n",
    "5. %= modulus and assignment operator\n",
    "6. //= floor division and assignment operator\n",
    "7. **= power and assignment operator\n",
    "\n",
    "```\n",
    "leftOperand += rightOperand\n",
    "\n",
    "leftOperand = leftOperand + rightOperand\n",
    "```"
   ]
  },
  {
   "cell_type": "code",
   "execution_count": 22,
   "id": "c57c4560-1005-46df-b896-7a3131c922d9",
   "metadata": {},
   "outputs": [
    {
     "data": {
      "text/plain": [
       "(20, 30)"
      ]
     },
     "execution_count": 22,
     "metadata": {},
     "output_type": "execute_result"
    }
   ],
   "source": [
    "a,b"
   ]
  },
  {
   "cell_type": "code",
   "execution_count": 23,
   "id": "4c994c75-68de-488b-94a1-ed394e0f4e73",
   "metadata": {},
   "outputs": [
    {
     "data": {
      "text/plain": [
       "120"
      ]
     },
     "execution_count": 23,
     "metadata": {},
     "output_type": "execute_result"
    }
   ],
   "source": [
    "a += 100\n",
    "a"
   ]
  },
  {
   "cell_type": "code",
   "execution_count": 24,
   "id": "f62067ee-cf67-4b67-8286-a546ab71ec42",
   "metadata": {},
   "outputs": [],
   "source": [
    "b /= 10"
   ]
  },
  {
   "cell_type": "code",
   "execution_count": 25,
   "id": "1322702b-54b1-437e-ab2d-f2383a750cbf",
   "metadata": {},
   "outputs": [
    {
     "data": {
      "text/plain": [
       "3.0"
      ]
     },
     "execution_count": 25,
     "metadata": {},
     "output_type": "execute_result"
    }
   ],
   "source": [
    "b"
   ]
  },
  {
   "cell_type": "markdown",
   "id": "96fe3722-4dc9-4e74-bf01-734e023c97bf",
   "metadata": {},
   "source": [
    "#### Comparision Operator"
   ]
  },
  {
   "cell_type": "code",
   "execution_count": 26,
   "id": "a261b8b2-29f6-483a-a860-a9fefd469eee",
   "metadata": {},
   "outputs": [
    {
     "data": {
      "text/plain": [
       "(120, 3.0)"
      ]
     },
     "execution_count": 26,
     "metadata": {},
     "output_type": "execute_result"
    }
   ],
   "source": [
    "a ,b"
   ]
  },
  {
   "cell_type": "code",
   "execution_count": 29,
   "id": "41121dc2-f2e3-487a-92e8-bd091c6c17a7",
   "metadata": {},
   "outputs": [
    {
     "data": {
      "text/plain": [
       "False"
      ]
     },
     "execution_count": 29,
     "metadata": {},
     "output_type": "execute_result"
    }
   ],
   "source": [
    "# comparing the value of a equals to b\n",
    "a == b"
   ]
  },
  {
   "cell_type": "code",
   "execution_count": 32,
   "id": "f1fb03b0-feed-4c9d-b83e-915129bd63de",
   "metadata": {},
   "outputs": [
    {
     "data": {
      "text/plain": [
       "True"
      ]
     },
     "execution_count": 32,
     "metadata": {},
     "output_type": "execute_result"
    }
   ],
   "source": [
    "# comparing the value of a is greater than b\n",
    "a > b"
   ]
  },
  {
   "cell_type": "code",
   "execution_count": 33,
   "id": "8d95eb11-a97f-4630-9591-d15124c69d43",
   "metadata": {},
   "outputs": [
    {
     "data": {
      "text/plain": [
       "False"
      ]
     },
     "execution_count": 33,
     "metadata": {},
     "output_type": "execute_result"
    }
   ],
   "source": [
    "# comparing the value (a is less than b)\n",
    "a < b"
   ]
  },
  {
   "cell_type": "code",
   "execution_count": 34,
   "id": "34761e52-4a6c-48cd-b372-18b21aa5c707",
   "metadata": {},
   "outputs": [
    {
     "data": {
      "text/plain": [
       "True"
      ]
     },
     "execution_count": 34,
     "metadata": {},
     "output_type": "execute_result"
    }
   ],
   "source": [
    "# a is not eqaul to b\n",
    "a != b"
   ]
  },
  {
   "cell_type": "code",
   "execution_count": 35,
   "id": "45f644ae-bb7a-4146-8d9a-eb99241cf7c1",
   "metadata": {},
   "outputs": [
    {
     "data": {
      "text/plain": [
       "True"
      ]
     },
     "execution_count": 35,
     "metadata": {},
     "output_type": "execute_result"
    }
   ],
   "source": [
    "# a is greather than or equal to b\n",
    "a >= b"
   ]
  },
  {
   "cell_type": "code",
   "execution_count": 36,
   "id": "f3083989-a3d5-4b90-9324-95c99bcfb3ab",
   "metadata": {},
   "outputs": [
    {
     "data": {
      "text/plain": [
       "False"
      ]
     },
     "execution_count": 36,
     "metadata": {},
     "output_type": "execute_result"
    }
   ],
   "source": [
    "# a is less than or equal to b\n",
    "a <= b"
   ]
  },
  {
   "cell_type": "markdown",
   "id": "b45a5573-3bad-410d-8b1c-eb1f794989c9",
   "metadata": {},
   "source": [
    "#### Logical Operators\n",
    "\n",
    "1. and: and operator (&)\n",
    "2. or : or operator (|)\n",
    "3. not : not operator (!)"
   ]
  },
  {
   "cell_type": "code",
   "execution_count": 39,
   "id": "21e0b6a2-dec9-4802-b7e8-80e13b7ed391",
   "metadata": {},
   "outputs": [],
   "source": [
    "a = 10\n",
    "b = 20\n",
    "c = 15"
   ]
  },
  {
   "cell_type": "code",
   "execution_count": 42,
   "id": "6cb290c0-d207-40f0-b6c0-d2a550359970",
   "metadata": {},
   "outputs": [
    {
     "data": {
      "text/plain": [
       "True"
      ]
     },
     "execution_count": 42,
     "metadata": {},
     "output_type": "execute_result"
    }
   ],
   "source": [
    "# testing that value c is in b/w [a,b]\n",
    "c>=a and c<=b # c>=a && c<=b in javaScript"
   ]
  },
  {
   "cell_type": "code",
   "execution_count": 45,
   "id": "d518822a-c73c-40e8-a707-e62fd319192e",
   "metadata": {},
   "outputs": [
    {
     "data": {
      "text/plain": [
       "False"
      ]
     },
     "execution_count": 45,
     "metadata": {},
     "output_type": "execute_result"
    }
   ],
   "source": [
    "c = 5\n",
    "c>=a and c<=b"
   ]
  },
  {
   "cell_type": "markdown",
   "id": "0c8bef67-4d28-4d29-bcf9-f2485f0bf545",
   "metadata": {},
   "source": [
    "**or: operator**"
   ]
  },
  {
   "cell_type": "code",
   "execution_count": 46,
   "id": "44376052-be85-4819-b9bc-c8a0634cc22a",
   "metadata": {},
   "outputs": [
    {
     "data": {
      "text/plain": [
       "True"
      ]
     },
     "execution_count": 46,
     "metadata": {},
     "output_type": "execute_result"
    }
   ],
   "source": [
    "c = 5\n",
    "c>=a or c<=b"
   ]
  },
  {
   "cell_type": "code",
   "execution_count": 47,
   "id": "e5c7bee1-42b4-4e61-bc30-399a30569c13",
   "metadata": {},
   "outputs": [
    {
     "data": {
      "text/plain": [
       "True"
      ]
     },
     "execution_count": 47,
     "metadata": {},
     "output_type": "execute_result"
    }
   ],
   "source": [
    "not c>=a"
   ]
  },
  {
   "cell_type": "markdown",
   "id": "6dceaae2-4fdc-4da9-973e-0802139695be",
   "metadata": {},
   "source": [
    "### identity operators"
   ]
  },
  {
   "cell_type": "code",
   "execution_count": 48,
   "id": "824197e3-2c8a-4930-bc71-972085981982",
   "metadata": {},
   "outputs": [],
   "source": [
    "a = [10,20]"
   ]
  },
  {
   "cell_type": "code",
   "execution_count": 54,
   "id": "51f686ea-b9e1-41c6-9754-69d56ac2472c",
   "metadata": {},
   "outputs": [],
   "source": [
    "b = a  # note: here we are not copying the item. just telling the reference to b."
   ]
  },
  {
   "cell_type": "code",
   "execution_count": 51,
   "id": "90060843-f2cb-46d1-b8d9-bd8e68c248c9",
   "metadata": {},
   "outputs": [
    {
     "data": {
      "text/plain": [
       "True"
      ]
     },
     "execution_count": 51,
     "metadata": {},
     "output_type": "execute_result"
    }
   ],
   "source": [
    "a is b"
   ]
  },
  {
   "cell_type": "code",
   "execution_count": 52,
   "id": "024c0250-2602-4e62-a867-189a652a4dd6",
   "metadata": {},
   "outputs": [],
   "source": [
    "a = [10,20]\n",
    "b = [10,20]"
   ]
  },
  {
   "cell_type": "code",
   "execution_count": 62,
   "id": "b926d9b9-9624-45b5-9557-5061f9662497",
   "metadata": {},
   "outputs": [
    {
     "data": {
      "text/plain": [
       "False"
      ]
     },
     "execution_count": 62,
     "metadata": {},
     "output_type": "execute_result"
    }
   ],
   "source": [
    "a is b\n",
    "# a is  b"
   ]
  },
  {
   "cell_type": "code",
   "execution_count": 63,
   "id": "6f782514-5afa-407b-b775-edd4cfabbd99",
   "metadata": {},
   "outputs": [
    {
     "data": {
      "text/plain": [
       "True"
      ]
     },
     "execution_count": 63,
     "metadata": {},
     "output_type": "execute_result"
    }
   ],
   "source": [
    "# a is not b\n",
    "a is not b"
   ]
  },
  {
   "cell_type": "markdown",
   "id": "e0c29374-1f0c-45b8-b708-53cc9bbe8d77",
   "metadata": {},
   "source": [
    "#### Membership Operators"
   ]
  },
  {
   "cell_type": "code",
   "execution_count": 55,
   "id": "f4cff3a0-492b-450e-8e26-44df5171d234",
   "metadata": {},
   "outputs": [],
   "source": [
    "a = [1,2,3,4]"
   ]
  },
  {
   "cell_type": "code",
   "execution_count": 56,
   "id": "7e627017-f221-479f-ab49-67e253b276e2",
   "metadata": {},
   "outputs": [
    {
     "data": {
      "text/plain": [
       "True"
      ]
     },
     "execution_count": 56,
     "metadata": {},
     "output_type": "execute_result"
    }
   ],
   "source": [
    "3 in a"
   ]
  },
  {
   "cell_type": "code",
   "execution_count": 57,
   "id": "7b6ac249-71f2-4ed1-965b-7050466f84f0",
   "metadata": {},
   "outputs": [
    {
     "data": {
      "text/plain": [
       "False"
      ]
     },
     "execution_count": 57,
     "metadata": {},
     "output_type": "execute_result"
    }
   ],
   "source": [
    "6 in a"
   ]
  },
  {
   "cell_type": "code",
   "execution_count": 58,
   "id": "702757c6-435c-47df-b72f-44063ca06550",
   "metadata": {},
   "outputs": [
    {
     "data": {
      "text/plain": [
       "True"
      ]
     },
     "execution_count": 58,
     "metadata": {},
     "output_type": "execute_result"
    }
   ],
   "source": [
    "6 not in a"
   ]
  },
  {
   "cell_type": "code",
   "execution_count": null,
   "id": "ee232953-15d7-4312-b0c5-1d1810953ca2",
   "metadata": {},
   "outputs": [],
   "source": []
  }
 ],
 "metadata": {
  "kernelspec": {
   "display_name": "Python 3 (ipykernel)",
   "language": "python",
   "name": "python3"
  },
  "language_info": {
   "codemirror_mode": {
    "name": "ipython",
    "version": 3
   },
   "file_extension": ".py",
   "mimetype": "text/x-python",
   "name": "python",
   "nbconvert_exporter": "python",
   "pygments_lexer": "ipython3",
   "version": "3.10.5"
  }
 },
 "nbformat": 4,
 "nbformat_minor": 5
}
