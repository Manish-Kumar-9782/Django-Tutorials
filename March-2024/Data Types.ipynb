{
 "cells": [
  {
   "cell_type": "markdown",
   "id": "f7548b8e-bb8f-410a-a2b4-d633187ef96d",
   "metadata": {},
   "source": [
    "## Python Data Types\n",
    "\n",
    "1. Numbers: int, float\n",
    "2. boolean: True, False\n",
    "3. string: \"hello\"\n",
    "4. None:\n",
    "\n",
    "**Data Structure**\n",
    "\n",
    "1. list: [1,2,3,4] similar to javaScipt Array\n",
    "2. tuple: (1,2,3,4)\n",
    "3. dict: {key:value} similar to javaScript Object\n",
    "4. set: {1,2,3,4}"
   ]
  },
  {
   "cell_type": "markdown",
   "id": "053b0d6e-197f-4026-a6bb-6dd2e5f682f8",
   "metadata": {},
   "source": [
    "**list**"
   ]
  },
  {
   "cell_type": "code",
   "execution_count": 1,
   "id": "43dfffe1-4414-457d-999f-20c949668b4f",
   "metadata": {},
   "outputs": [],
   "source": [
    "values = [1,2,3,4]"
   ]
  },
  {
   "cell_type": "code",
   "execution_count": 2,
   "id": "99f944aa-d628-49aa-a6ed-e139cba7c8a3",
   "metadata": {},
   "outputs": [
    {
     "data": {
      "text/plain": [
       "[1, 2, 3, 4]"
      ]
     },
     "execution_count": 2,
     "metadata": {},
     "output_type": "execute_result"
    }
   ],
   "source": [
    "values"
   ]
  },
  {
   "cell_type": "code",
   "execution_count": 3,
   "id": "01bfd470-3f08-4cc7-80a9-16956150439a",
   "metadata": {},
   "outputs": [
    {
     "data": {
      "text/plain": [
       "4"
      ]
     },
     "execution_count": 3,
     "metadata": {},
     "output_type": "execute_result"
    }
   ],
   "source": [
    "# checking the length of the list\n",
    "len(values)"
   ]
  },
  {
   "cell_type": "code",
   "execution_count": 7,
   "id": "d7cde1de-1bfd-4c73-aff2-ccb11982e732",
   "metadata": {},
   "outputs": [
    {
     "data": {
      "text/plain": [
       "2"
      ]
     },
     "execution_count": 7,
     "metadata": {},
     "output_type": "execute_result"
    }
   ],
   "source": [
    "# access an item with index\n",
    "values[1]"
   ]
  },
  {
   "cell_type": "code",
   "execution_count": 8,
   "id": "3b7e74ec-6991-4d4b-9e86-2a6967a28121",
   "metadata": {},
   "outputs": [],
   "source": [
    "# item assignment to values\n",
    "values[1] = 20"
   ]
  },
  {
   "cell_type": "code",
   "execution_count": 9,
   "id": "4f9e003b-c4c0-4e9f-9976-10e5e481ad4d",
   "metadata": {},
   "outputs": [
    {
     "data": {
      "text/plain": [
       "[1, 20, 3, 4]"
      ]
     },
     "execution_count": 9,
     "metadata": {},
     "output_type": "execute_result"
    }
   ],
   "source": [
    "values"
   ]
  },
  {
   "cell_type": "markdown",
   "id": "bde8f8ce-9177-44bc-909c-dfd3d4698129",
   "metadata": {},
   "source": [
    "**tuple**"
   ]
  },
  {
   "cell_type": "code",
   "execution_count": 5,
   "id": "6be20ca2-f4fc-4727-b74f-608f2d9c3033",
   "metadata": {},
   "outputs": [],
   "source": [
    "myTuple = (1,2,3,4)"
   ]
  },
  {
   "cell_type": "code",
   "execution_count": 6,
   "id": "ab82dd0b-eb6f-4349-8c3b-8f7281717a19",
   "metadata": {},
   "outputs": [
    {
     "data": {
      "text/plain": [
       "2"
      ]
     },
     "execution_count": 6,
     "metadata": {},
     "output_type": "execute_result"
    }
   ],
   "source": [
    "myTuple[1]"
   ]
  },
  {
   "cell_type": "code",
   "execution_count": 10,
   "id": "4d403dbf-9789-4114-a77a-be87da656e6d",
   "metadata": {},
   "outputs": [
    {
     "ename": "TypeError",
     "evalue": "'tuple' object does not support item assignment",
     "output_type": "error",
     "traceback": [
      "\u001b[1;31m---------------------------------------------------------------------------\u001b[0m",
      "\u001b[1;31mTypeError\u001b[0m                                 Traceback (most recent call last)",
      "Cell \u001b[1;32mIn [10], line 2\u001b[0m\n\u001b[0;32m      1\u001b[0m \u001b[38;5;66;03m# item assignment on myTuple\u001b[39;00m\n\u001b[1;32m----> 2\u001b[0m \u001b[43mmyTuple\u001b[49m\u001b[43m[\u001b[49m\u001b[38;5;241;43m1\u001b[39;49m\u001b[43m]\u001b[49m \u001b[38;5;241m=\u001b[39m \u001b[38;5;241m20\u001b[39m\n",
      "\u001b[1;31mTypeError\u001b[0m: 'tuple' object does not support item assignment"
     ]
    }
   ],
   "source": [
    "# item assignment on myTuple\n",
    "myTuple[1] = 20"
   ]
  },
  {
   "cell_type": "markdown",
   "id": "fb68fe5b-267a-4bea-8dd0-db54647e2439",
   "metadata": {},
   "source": [
    "**dict**"
   ]
  },
  {
   "cell_type": "code",
   "execution_count": 12,
   "id": "50d62a37-76a0-4247-9214-f4a62e29e364",
   "metadata": {},
   "outputs": [],
   "source": [
    "person = {\n",
    "    \"name\": \"Aasish\",\n",
    "    \"age\": 21,\n",
    "    \"height\": 5.6\n",
    "}"
   ]
  },
  {
   "cell_type": "code",
   "execution_count": 13,
   "id": "6672e4e8-b113-4272-9bba-4e2778df9b2e",
   "metadata": {},
   "outputs": [
    {
     "data": {
      "text/plain": [
       "{'name': 'Aasish', 'age': 21, 'height': 5.6}"
      ]
     },
     "execution_count": 13,
     "metadata": {},
     "output_type": "execute_result"
    }
   ],
   "source": [
    "person"
   ]
  },
  {
   "cell_type": "code",
   "execution_count": 14,
   "id": "966c73bf-24da-41da-9cec-73e90634c4df",
   "metadata": {},
   "outputs": [],
   "source": [
    "# updating the dict\n",
    "person[\"age\"] = 22"
   ]
  },
  {
   "cell_type": "code",
   "execution_count": 15,
   "id": "35001c23-7dc5-4e4c-9bea-048a69b843d0",
   "metadata": {},
   "outputs": [
    {
     "data": {
      "text/plain": [
       "{'name': 'Aasish', 'age': 22, 'height': 5.6}"
      ]
     },
     "execution_count": 15,
     "metadata": {},
     "output_type": "execute_result"
    }
   ],
   "source": [
    "person"
   ]
  },
  {
   "cell_type": "code",
   "execution_count": 16,
   "id": "c570e0c4-c812-4ce8-918e-b9b7eb8aaac1",
   "metadata": {},
   "outputs": [
    {
     "data": {
      "text/plain": [
       "'Aasish'"
      ]
     },
     "execution_count": 16,
     "metadata": {},
     "output_type": "execute_result"
    }
   ],
   "source": [
    "## accessing the name\n",
    "person[\"name\"]"
   ]
  },
  {
   "cell_type": "code",
   "execution_count": 17,
   "id": "05553d66-a40d-414e-b1a5-c4846e6ae30d",
   "metadata": {},
   "outputs": [
    {
     "data": {
      "text/plain": [
       "dict_keys(['name', 'age', 'height'])"
      ]
     },
     "execution_count": 17,
     "metadata": {},
     "output_type": "execute_result"
    }
   ],
   "source": [
    "person.keys()"
   ]
  },
  {
   "cell_type": "code",
   "execution_count": 20,
   "id": "19b0f2bf-12ad-4a18-ac2b-4e156bd1f26c",
   "metadata": {},
   "outputs": [
    {
     "data": {
      "text/plain": [
       "dict_values(['Aasish', 22, 5.6])"
      ]
     },
     "execution_count": 20,
     "metadata": {},
     "output_type": "execute_result"
    }
   ],
   "source": [
    "person.values()"
   ]
  },
  {
   "cell_type": "code",
   "execution_count": 21,
   "id": "77cbc6dd-1de1-46a4-b1e0-3d905684912c",
   "metadata": {},
   "outputs": [
    {
     "data": {
      "text/plain": [
       "dict_items([('name', 'Aasish'), ('age', 22), ('height', 5.6)])"
      ]
     },
     "execution_count": 21,
     "metadata": {},
     "output_type": "execute_result"
    }
   ],
   "source": [
    "person.items()"
   ]
  },
  {
   "cell_type": "markdown",
   "id": "bbb9353f-319e-4375-90d4-3112fa6c85aa",
   "metadata": {},
   "source": [
    "**set**"
   ]
  },
  {
   "cell_type": "code",
   "execution_count": 22,
   "id": "1d19dfe3-4c87-4dd0-aaff-1dfd51b15746",
   "metadata": {},
   "outputs": [],
   "source": [
    "a = {1,2,3,4}"
   ]
  },
  {
   "cell_type": "code",
   "execution_count": 24,
   "id": "78d1e369-b5a5-4085-b39c-825855014d0c",
   "metadata": {},
   "outputs": [],
   "source": [
    "b = {1,2,3,6,7,7}"
   ]
  },
  {
   "cell_type": "code",
   "execution_count": 25,
   "id": "9c87aa14-6286-4019-9c5b-4ed8de3a073d",
   "metadata": {},
   "outputs": [
    {
     "data": {
      "text/plain": [
       "{1, 2, 3, 6, 7}"
      ]
     },
     "execution_count": 25,
     "metadata": {},
     "output_type": "execute_result"
    }
   ],
   "source": [
    "b"
   ]
  },
  {
   "cell_type": "code",
   "execution_count": 26,
   "id": "5b43a255-3960-4782-b9e8-331eb9c05899",
   "metadata": {},
   "outputs": [
    {
     "data": {
      "text/plain": [
       "{1, 2, 3, 4, 6, 7}"
      ]
     },
     "execution_count": 26,
     "metadata": {},
     "output_type": "execute_result"
    }
   ],
   "source": [
    "a.union(b)"
   ]
  },
  {
   "cell_type": "code",
   "execution_count": 27,
   "id": "3199d23c-2b35-4d6e-b725-3ba24bc1ee7a",
   "metadata": {},
   "outputs": [
    {
     "data": {
      "text/plain": [
       "{1, 2, 3}"
      ]
     },
     "execution_count": 27,
     "metadata": {},
     "output_type": "execute_result"
    }
   ],
   "source": [
    "a.intersection(b)"
   ]
  },
  {
   "cell_type": "code",
   "execution_count": 28,
   "id": "425eb744-820d-4db9-abcf-185f8d19e382",
   "metadata": {},
   "outputs": [
    {
     "data": {
      "text/plain": [
       "{4}"
      ]
     },
     "execution_count": 28,
     "metadata": {},
     "output_type": "execute_result"
    }
   ],
   "source": [
    "a.difference(b)"
   ]
  },
  {
   "cell_type": "code",
   "execution_count": 29,
   "id": "2b33db6a-fba9-411f-b50f-c414dccf9298",
   "metadata": {},
   "outputs": [
    {
     "data": {
      "text/plain": [
       "{6, 7}"
      ]
     },
     "execution_count": 29,
     "metadata": {},
     "output_type": "execute_result"
    }
   ],
   "source": [
    "b.difference(a)"
   ]
  },
  {
   "cell_type": "code",
   "execution_count": null,
   "id": "0b7bf6fc-db37-4553-8168-ef12ceab07e8",
   "metadata": {},
   "outputs": [],
   "source": []
  }
 ],
 "metadata": {
  "kernelspec": {
   "display_name": "Python 3 (ipykernel)",
   "language": "python",
   "name": "python3"
  },
  "language_info": {
   "codemirror_mode": {
    "name": "ipython",
    "version": 3
   },
   "file_extension": ".py",
   "mimetype": "text/x-python",
   "name": "python",
   "nbconvert_exporter": "python",
   "pygments_lexer": "ipython3",
   "version": "3.10.5"
  }
 },
 "nbformat": 4,
 "nbformat_minor": 5
}
