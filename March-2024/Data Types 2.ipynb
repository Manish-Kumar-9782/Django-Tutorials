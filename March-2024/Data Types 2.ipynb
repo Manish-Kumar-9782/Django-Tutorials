{
 "cells": [
  {
   "cell_type": "markdown",
   "id": "e4bc95bf-044f-4ec9-a80d-d7668dd839ff",
   "metadata": {},
   "source": [
    "## Python Data Types\n",
    "\n",
    "1. Numbers: int, float\n",
    "2. boolean: True, False\n",
    "3. string: \"hello\"\n",
    "4. None:\n",
    "\n",
    "**Data Structure**\n",
    "\n",
    "1. list: [1,2,3,4] similar to javaScipt Array\n",
    "2. tuple: (1,2,3,4)\n",
    "3. dict: {key:value} similar to javaScript Object\n",
    "4. set: {1,2,3,4}"
   ]
  },
  {
   "cell_type": "markdown",
   "id": "9bda96e1-455d-4f29-8172-1ba98a1e09aa",
   "metadata": {},
   "source": [
    "#### list data structure"
   ]
  },
  {
   "cell_type": "code",
   "execution_count": 2,
   "id": "7d1005be-9be9-49d2-9071-344aea3437db",
   "metadata": {},
   "outputs": [],
   "source": [
    "# creating an list object\n",
    "mylist = [1,2,3,4]"
   ]
  },
  {
   "cell_type": "code",
   "execution_count": 4,
   "id": "5e69f79c-93fd-4ffe-bb11-3898b0095f47",
   "metadata": {},
   "outputs": [
    {
     "data": {
      "text/plain": [
       "[1, 2, 3, 4]"
      ]
     },
     "execution_count": 4,
     "metadata": {},
     "output_type": "execute_result"
    }
   ],
   "source": [
    "# accsssing the whole list\n",
    "mylist"
   ]
  },
  {
   "cell_type": "code",
   "execution_count": 5,
   "id": "93d6c74f-d936-4504-ac86-545013f8ae47",
   "metadata": {},
   "outputs": [
    {
     "data": {
      "text/plain": [
       "1"
      ]
     },
     "execution_count": 5,
     "metadata": {},
     "output_type": "execute_result"
    }
   ],
   "source": [
    "# accessing the individual item with index\n",
    "mylist[0]"
   ]
  },
  {
   "cell_type": "code",
   "execution_count": 7,
   "id": "5c683c9c-7418-4bd3-822a-95011d25c514",
   "metadata": {},
   "outputs": [
    {
     "data": {
      "text/plain": [
       "[20, 2, 3, 4]"
      ]
     },
     "execution_count": 7,
     "metadata": {},
     "output_type": "execute_result"
    }
   ],
   "source": [
    "# updating the item\n",
    "mylist[0] = 20  # updating\n",
    "mylist  # accessing to check the returned value"
   ]
  },
  {
   "cell_type": "code",
   "execution_count": 8,
   "id": "8ad515ee-e7cd-430e-a7af-dccbc803963a",
   "metadata": {},
   "outputs": [],
   "source": [
    "a = [1,2,3]\n",
    "b = [4,5,6]"
   ]
  },
  {
   "cell_type": "markdown",
   "id": "9c30204e-4cc9-458b-8fba-7fcd962a39f8",
   "metadata": {},
   "source": [
    "**+: Operator**"
   ]
  },
  {
   "cell_type": "code",
   "execution_count": 9,
   "id": "60762fe0-9b34-4a52-a23b-5605a54aef06",
   "metadata": {},
   "outputs": [
    {
     "data": {
      "text/plain": [
       "[1, 2, 3, 4, 5, 6]"
      ]
     },
     "execution_count": 9,
     "metadata": {},
     "output_type": "execute_result"
    }
   ],
   "source": [
    "# creating another list by using list a and b\n",
    " a + b # concatnating the list a with b."
   ]
  },
  {
   "cell_type": "code",
   "execution_count": 11,
   "id": "6760a225-9507-47c0-9a2e-3b8e5ca18a64",
   "metadata": {},
   "outputs": [
    {
     "data": {
      "text/plain": [
       "6"
      ]
     },
     "execution_count": 11,
     "metadata": {},
     "output_type": "execute_result"
    }
   ],
   "source": [
    "# accessing item without storing\n",
    "(a+b)[5]"
   ]
  },
  {
   "cell_type": "code",
   "execution_count": 13,
   "id": "d314896f-c607-495c-8ba1-8b1250aca964",
   "metadata": {},
   "outputs": [
    {
     "data": {
      "text/plain": [
       "(1, 6)"
      ]
     },
     "execution_count": 13,
     "metadata": {},
     "output_type": "execute_result"
    }
   ],
   "source": [
    "x = a+b\n",
    "x[0], x[5]"
   ]
  },
  {
   "cell_type": "markdown",
   "id": "4ca066b3-e781-4dcb-b45c-0de131982e84",
   "metadata": {},
   "source": [
    "**`*`:mutliply operator**"
   ]
  },
  {
   "cell_type": "code",
   "execution_count": 14,
   "id": "967f1a9e-d01a-44af-a569-883a8ef19674",
   "metadata": {},
   "outputs": [
    {
     "data": {
      "text/plain": [
       "[1, 2, 3]"
      ]
     },
     "execution_count": 14,
     "metadata": {},
     "output_type": "execute_result"
    }
   ],
   "source": [
    "a"
   ]
  },
  {
   "cell_type": "code",
   "execution_count": 15,
   "id": "1852319a-56c0-42f9-8e16-58af0261c1a8",
   "metadata": {},
   "outputs": [
    {
     "data": {
      "text/plain": [
       "[1, 2, 3, 1, 2, 3, 1, 2, 3]"
      ]
     },
     "execution_count": 15,
     "metadata": {},
     "output_type": "execute_result"
    }
   ],
   "source": [
    "a*3"
   ]
  },
  {
   "cell_type": "markdown",
   "id": "933f3417-9f76-43e0-87ab-555d133affd2",
   "metadata": {},
   "source": [
    "#### Update List\n",
    "\n",
    "* append\n",
    "* extend\n",
    "* insert\n",
    "* reverse\n",
    "* sort"
   ]
  },
  {
   "cell_type": "markdown",
   "id": "4649b5b9-8790-41bb-b7d7-02c18a7cb235",
   "metadata": {},
   "source": [
    "**append method**"
   ]
  },
  {
   "cell_type": "code",
   "execution_count": 17,
   "id": "5fb6406c-f138-48ae-82ed-8c0d3e5eb066",
   "metadata": {},
   "outputs": [],
   "source": [
    "a = [1,2,3,4]"
   ]
  },
  {
   "cell_type": "code",
   "execution_count": 18,
   "id": "243fa57d-85f5-4292-855a-4c344f9990d4",
   "metadata": {},
   "outputs": [],
   "source": [
    "a.append(20) # adding an item at end of the list"
   ]
  },
  {
   "cell_type": "code",
   "execution_count": 19,
   "id": "6e2101eb-ce52-4370-a52b-c74c904879f1",
   "metadata": {},
   "outputs": [
    {
     "data": {
      "text/plain": [
       "[1, 2, 3, 4, 20]"
      ]
     },
     "execution_count": 19,
     "metadata": {},
     "output_type": "execute_result"
    }
   ],
   "source": [
    "a"
   ]
  },
  {
   "cell_type": "markdown",
   "id": "0371ee9d-cc54-402b-ba52-0c0352551adb",
   "metadata": {},
   "source": [
    "**extend**"
   ]
  },
  {
   "cell_type": "code",
   "execution_count": 20,
   "id": "e4a72e81-ab81-430c-81d2-f4d2bedabf9d",
   "metadata": {},
   "outputs": [],
   "source": [
    "b = [5,6,7,8]"
   ]
  },
  {
   "cell_type": "code",
   "execution_count": 21,
   "id": "7ed5d92b-febf-456e-bd09-29828f183fa7",
   "metadata": {},
   "outputs": [],
   "source": [
    "# extending b by a\n",
    "b.extend(a)"
   ]
  },
  {
   "cell_type": "code",
   "execution_count": 22,
   "id": "edd2e483-0ee9-4a8f-8453-3db371aa957f",
   "metadata": {},
   "outputs": [
    {
     "data": {
      "text/plain": [
       "[5, 6, 7, 8, 1, 2, 3, 4, 20]"
      ]
     },
     "execution_count": 22,
     "metadata": {},
     "output_type": "execute_result"
    }
   ],
   "source": [
    "b"
   ]
  },
  {
   "cell_type": "code",
   "execution_count": 23,
   "id": "f410b2be-232c-401c-8143-73f996460ef2",
   "metadata": {},
   "outputs": [
    {
     "data": {
      "text/plain": [
       "[1, 2, 3, 4, 20, 1, 2, 3, 4, 20]"
      ]
     },
     "execution_count": 23,
     "metadata": {},
     "output_type": "execute_result"
    }
   ],
   "source": [
    "a.extend(a)\n",
    "a"
   ]
  },
  {
   "cell_type": "markdown",
   "id": "3b4d272a-ba86-4653-9002-55a2a2ea1043",
   "metadata": {},
   "source": [
    "**difference in b/w the append and extend**"
   ]
  },
  {
   "cell_type": "code",
   "execution_count": 25,
   "id": "f882dc47-cd65-4e9c-a9e9-b3236fa0409c",
   "metadata": {},
   "outputs": [],
   "source": [
    "a = [1,2,3,4]\n",
    "b = [4,5,6,7]\n",
    "x = [0,9,8,7]"
   ]
  },
  {
   "cell_type": "code",
   "execution_count": 26,
   "id": "f709a60d-8042-4aa8-9aa1-4ecefc09892f",
   "metadata": {},
   "outputs": [],
   "source": [
    "a.append(x)"
   ]
  },
  {
   "cell_type": "code",
   "execution_count": 27,
   "id": "9125e820-29b9-45fe-a666-e830e11dea5f",
   "metadata": {},
   "outputs": [
    {
     "data": {
      "text/plain": [
       "[1, 2, 3, 4, [0, 9, 8, 7]]"
      ]
     },
     "execution_count": 27,
     "metadata": {},
     "output_type": "execute_result"
    }
   ],
   "source": [
    "a"
   ]
  },
  {
   "cell_type": "code",
   "execution_count": 30,
   "id": "c744057c-b3b5-454b-9246-475e82b0db01",
   "metadata": {},
   "outputs": [
    {
     "data": {
      "text/plain": [
       "5"
      ]
     },
     "execution_count": 30,
     "metadata": {},
     "output_type": "execute_result"
    }
   ],
   "source": [
    "len(a)"
   ]
  },
  {
   "cell_type": "code",
   "execution_count": 28,
   "id": "18112266-0bae-4043-a83d-6ac70f3b2e9a",
   "metadata": {},
   "outputs": [],
   "source": [
    "b.extend(x)"
   ]
  },
  {
   "cell_type": "code",
   "execution_count": 29,
   "id": "91e42041-41cc-438f-9719-97eba5c8b0e6",
   "metadata": {},
   "outputs": [
    {
     "data": {
      "text/plain": [
       "[4, 5, 6, 7, 0, 9, 8, 7]"
      ]
     },
     "execution_count": 29,
     "metadata": {},
     "output_type": "execute_result"
    }
   ],
   "source": [
    "b"
   ]
  },
  {
   "cell_type": "markdown",
   "id": "e8923f98-3d46-48fc-90b6-04ecb9861245",
   "metadata": {},
   "source": [
    "**insert**"
   ]
  },
  {
   "cell_type": "code",
   "execution_count": 43,
   "id": "57c4d9ad-2f53-46bd-aa2b-b2cd5a5c7319",
   "metadata": {},
   "outputs": [],
   "source": [
    "a = [1,2,3,4]"
   ]
  },
  {
   "cell_type": "code",
   "execution_count": 44,
   "id": "46aa3833-1661-4017-bdf5-06a98166261e",
   "metadata": {},
   "outputs": [
    {
     "data": {
      "text/plain": [
       "[100, 1, 2, 3, 4]"
      ]
     },
     "execution_count": 44,
     "metadata": {},
     "output_type": "execute_result"
    }
   ],
   "source": [
    "a.insert(0,100) # inserting 100 at the beginning of the list\n",
    "a"
   ]
  },
  {
   "cell_type": "code",
   "execution_count": 45,
   "id": "9c8a716c-48db-4dd6-8022-1128b96f301a",
   "metadata": {},
   "outputs": [],
   "source": [
    "a.insert(-1,200)"
   ]
  },
  {
   "cell_type": "code",
   "execution_count": 46,
   "id": "36951f09-d573-4089-9ab8-85418aca22f3",
   "metadata": {},
   "outputs": [
    {
     "data": {
      "text/plain": [
       "[100, 1, 2, 3, 200, 4]"
      ]
     },
     "execution_count": 46,
     "metadata": {},
     "output_type": "execute_result"
    }
   ],
   "source": [
    "a"
   ]
  },
  {
   "cell_type": "code",
   "execution_count": 47,
   "id": "1a0f4daf-1067-43de-a4de-329a83ceaeb0",
   "metadata": {},
   "outputs": [],
   "source": [
    "a.insert(len(a),600)"
   ]
  },
  {
   "cell_type": "code",
   "execution_count": 48,
   "id": "22e22a13-339e-46a9-8b97-7f93161d91c4",
   "metadata": {},
   "outputs": [
    {
     "data": {
      "text/plain": [
       "[100, 1, 2, 3, 200, 4, 600]"
      ]
     },
     "execution_count": 48,
     "metadata": {},
     "output_type": "execute_result"
    }
   ],
   "source": [
    "a"
   ]
  },
  {
   "cell_type": "code",
   "execution_count": 49,
   "id": "097d682e-7594-41af-b4ce-a9f8679a7276",
   "metadata": {},
   "outputs": [],
   "source": [
    "a.insert(3,1000)"
   ]
  },
  {
   "cell_type": "code",
   "execution_count": 50,
   "id": "f78fe4f5-bb4f-4965-971d-ec3d828aaf9b",
   "metadata": {},
   "outputs": [
    {
     "data": {
      "text/plain": [
       "[100, 1, 2, 1000, 3, 200, 4, 600]"
      ]
     },
     "execution_count": 50,
     "metadata": {},
     "output_type": "execute_result"
    }
   ],
   "source": [
    "a"
   ]
  },
  {
   "cell_type": "markdown",
   "id": "d59d7025-d68c-48a1-bb8d-f3645b72bc9b",
   "metadata": {},
   "source": [
    "**reverse**"
   ]
  },
  {
   "cell_type": "code",
   "execution_count": 51,
   "id": "6165365c-4bc4-453b-828b-2753edf789bb",
   "metadata": {},
   "outputs": [],
   "source": [
    "a.reverse()"
   ]
  },
  {
   "cell_type": "code",
   "execution_count": 52,
   "id": "06fefd33-c264-4272-aa43-9c62f4c036e9",
   "metadata": {},
   "outputs": [
    {
     "data": {
      "text/plain": [
       "[600, 4, 200, 3, 1000, 2, 1, 100]"
      ]
     },
     "execution_count": 52,
     "metadata": {},
     "output_type": "execute_result"
    }
   ],
   "source": [
    "a"
   ]
  },
  {
   "cell_type": "markdown",
   "id": "d9f98ebe-1c07-4511-b24f-7acab6c153b7",
   "metadata": {},
   "source": [
    "**sort**"
   ]
  },
  {
   "cell_type": "code",
   "execution_count": 53,
   "id": "89c09e21-3e45-41a0-b909-7438a5acc6d7",
   "metadata": {},
   "outputs": [],
   "source": [
    "a.sort()"
   ]
  },
  {
   "cell_type": "code",
   "execution_count": 54,
   "id": "bca8a158-45eb-4300-b2ff-e5ad009e2538",
   "metadata": {},
   "outputs": [
    {
     "data": {
      "text/plain": [
       "[1, 2, 3, 4, 100, 200, 600, 1000]"
      ]
     },
     "execution_count": 54,
     "metadata": {},
     "output_type": "execute_result"
    }
   ],
   "source": [
    "a"
   ]
  },
  {
   "cell_type": "markdown",
   "id": "42360cdb-bda9-46d2-bbe8-a392c9f0f615",
   "metadata": {},
   "source": [
    "### create"
   ]
  },
  {
   "cell_type": "markdown",
   "id": "975628ed-9615-479f-b503-ea2eedbd1e2a",
   "metadata": {},
   "source": [
    "**copy**"
   ]
  },
  {
   "cell_type": "code",
   "execution_count": 58,
   "id": "bccf04b2-e569-4a5c-adb1-6e424ed6685b",
   "metadata": {},
   "outputs": [
    {
     "data": {
      "text/plain": [
       "['x1', 2, 3, 4, 100, 200, 600, 1000]"
      ]
     },
     "execution_count": 58,
     "metadata": {},
     "output_type": "execute_result"
    }
   ],
   "source": [
    "xa = a.copy()\n",
    "xa[0] = \"x1\"\n",
    "xa"
   ]
  },
  {
   "cell_type": "code",
   "execution_count": 59,
   "id": "3b372f3c-880f-4595-9c08-dad9b3e0c90f",
   "metadata": {},
   "outputs": [
    {
     "data": {
      "text/plain": [
       "[1, 2, 3, 4, 100, 200, 600, 1000]"
      ]
     },
     "execution_count": 59,
     "metadata": {},
     "output_type": "execute_result"
    }
   ],
   "source": [
    "a"
   ]
  },
  {
   "cell_type": "code",
   "execution_count": 61,
   "id": "aee3b8c2-2d7e-4552-b6f9-fb699dadf818",
   "metadata": {},
   "outputs": [
    {
     "data": {
      "text/plain": [
       "False"
      ]
     },
     "execution_count": 61,
     "metadata": {},
     "output_type": "execute_result"
    }
   ],
   "source": [
    "a is xa # testing for identity"
   ]
  },
  {
   "cell_type": "markdown",
   "id": "6b4cc9b8-5786-441c-bb45-67bebc6ea0b4",
   "metadata": {},
   "source": [
    "### delete"
   ]
  },
  {
   "cell_type": "markdown",
   "id": "8df76d56-eaad-43c6-9eee-6e69513723d3",
   "metadata": {},
   "source": [
    "**clear**"
   ]
  },
  {
   "cell_type": "code",
   "execution_count": 62,
   "id": "ded83084-1740-4763-a0db-2d47f2352c41",
   "metadata": {},
   "outputs": [],
   "source": [
    "xa.clear()  # removing all item from xa list"
   ]
  },
  {
   "cell_type": "code",
   "execution_count": 63,
   "id": "0b2b82b5-12ee-4fee-868b-40c5aee3efb9",
   "metadata": {},
   "outputs": [
    {
     "data": {
      "text/plain": [
       "[]"
      ]
     },
     "execution_count": 63,
     "metadata": {},
     "output_type": "execute_result"
    }
   ],
   "source": [
    "xa # now xa is empty"
   ]
  },
  {
   "cell_type": "markdown",
   "id": "be8e2e12-e7db-486c-8f36-1fe6ae049371",
   "metadata": {},
   "source": [
    "**pop**"
   ]
  },
  {
   "cell_type": "code",
   "execution_count": 64,
   "id": "bcce77a7-0d74-4872-9038-7a1ae046d7ee",
   "metadata": {},
   "outputs": [
    {
     "data": {
      "text/plain": [
       "[1, 2, 3, 4, 100, 200, 600, 1000]"
      ]
     },
     "execution_count": 64,
     "metadata": {},
     "output_type": "execute_result"
    }
   ],
   "source": [
    "a"
   ]
  },
  {
   "cell_type": "code",
   "execution_count": 65,
   "id": "489e3119-56a0-47e4-b038-33e1e9927906",
   "metadata": {},
   "outputs": [
    {
     "data": {
      "text/plain": [
       "1000"
      ]
     },
     "execution_count": 65,
     "metadata": {},
     "output_type": "execute_result"
    }
   ],
   "source": [
    "a.pop()"
   ]
  },
  {
   "cell_type": "code",
   "execution_count": 66,
   "id": "662f2e8e-f823-4388-bd8c-b501754d1d9a",
   "metadata": {},
   "outputs": [
    {
     "data": {
      "text/plain": [
       "[1, 2, 3, 4, 100, 200, 600]"
      ]
     },
     "execution_count": 66,
     "metadata": {},
     "output_type": "execute_result"
    }
   ],
   "source": [
    "a"
   ]
  },
  {
   "cell_type": "code",
   "execution_count": 67,
   "id": "59512e75-01f3-4486-90f5-48e70ba3f88e",
   "metadata": {},
   "outputs": [
    {
     "data": {
      "text/plain": [
       "600"
      ]
     },
     "execution_count": 67,
     "metadata": {},
     "output_type": "execute_result"
    }
   ],
   "source": [
    "a.pop()"
   ]
  },
  {
   "cell_type": "code",
   "execution_count": 68,
   "id": "e00bed97-31ac-436e-8824-a9572a94e4bf",
   "metadata": {},
   "outputs": [
    {
     "data": {
      "text/plain": [
       "[1, 2, 3, 4, 100, 200]"
      ]
     },
     "execution_count": 68,
     "metadata": {},
     "output_type": "execute_result"
    }
   ],
   "source": [
    "a"
   ]
  },
  {
   "cell_type": "markdown",
   "id": "cadd48b5-3a5c-4f44-adcb-e669deb05496",
   "metadata": {},
   "source": [
    "**remove**"
   ]
  },
  {
   "cell_type": "code",
   "execution_count": 69,
   "id": "f7ac9124-e63f-4210-92f7-8380ad5d9563",
   "metadata": {},
   "outputs": [],
   "source": [
    "a.remove(100)"
   ]
  },
  {
   "cell_type": "code",
   "execution_count": 70,
   "id": "8e12ddbe-ac85-43bc-a27b-526b0ed4ec91",
   "metadata": {},
   "outputs": [
    {
     "data": {
      "text/plain": [
       "[1, 2, 3, 4, 200]"
      ]
     },
     "execution_count": 70,
     "metadata": {},
     "output_type": "execute_result"
    }
   ],
   "source": [
    "a"
   ]
  },
  {
   "cell_type": "markdown",
   "id": "a6008062-a699-44c2-852d-1f9ed92f3fe7",
   "metadata": {},
   "source": [
    "### Read"
   ]
  },
  {
   "cell_type": "code",
   "execution_count": 71,
   "id": "2da75567-bfff-485b-b608-920d66e0859c",
   "metadata": {},
   "outputs": [
    {
     "ename": "ValueError",
     "evalue": "600 is not in list",
     "output_type": "error",
     "traceback": [
      "\u001b[1;31m---------------------------------------------------------------------------\u001b[0m",
      "\u001b[1;31mValueError\u001b[0m                                Traceback (most recent call last)",
      "Cell \u001b[1;32mIn [71], line 1\u001b[0m\n\u001b[1;32m----> 1\u001b[0m \u001b[43ma\u001b[49m\u001b[38;5;241;43m.\u001b[39;49m\u001b[43mindex\u001b[49m\u001b[43m(\u001b[49m\u001b[38;5;241;43m600\u001b[39;49m\u001b[43m)\u001b[49m\n",
      "\u001b[1;31mValueError\u001b[0m: 600 is not in list"
     ]
    }
   ],
   "source": [
    "a.index(600)"
   ]
  },
  {
   "cell_type": "code",
   "execution_count": 72,
   "id": "3a4d60cc-a9b9-4684-96db-e84b2049169b",
   "metadata": {},
   "outputs": [
    {
     "data": {
      "text/plain": [
       "4"
      ]
     },
     "execution_count": 72,
     "metadata": {},
     "output_type": "execute_result"
    }
   ],
   "source": [
    "a.index(200)"
   ]
  },
  {
   "cell_type": "code",
   "execution_count": null,
   "id": "065687db-51b2-4597-9ccb-3582e94ae8e4",
   "metadata": {},
   "outputs": [],
   "source": []
  }
 ],
 "metadata": {
  "kernelspec": {
   "display_name": "Python 3 (ipykernel)",
   "language": "python",
   "name": "python3"
  },
  "language_info": {
   "codemirror_mode": {
    "name": "ipython",
    "version": 3
   },
   "file_extension": ".py",
   "mimetype": "text/x-python",
   "name": "python",
   "nbconvert_exporter": "python",
   "pygments_lexer": "ipython3",
   "version": "3.10.5"
  }
 },
 "nbformat": 4,
 "nbformat_minor": 5
}
