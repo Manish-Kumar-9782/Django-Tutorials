{
 "cells": [
  {
   "cell_type": "markdown",
   "id": "f7548b8e-bb8f-410a-a2b4-d633187ef96d",
   "metadata": {},
   "source": [
    "## Python Data Types\n",
    "\n",
    "1. Numbers: int, float\n",
    "2. boolean: True, False\n",
    "3. string: \"hello\"\n",
    "4. None:\n",
    "\n",
    "**Data Structure**\n",
    "\n",
    "1. list: [1,2,3,4] similar to javaScipt Array\n",
    "2. tuple: (1,2,3,4)\n",
    "3. dict: {key:value} similar to javaScript Object\n",
    "4. set: {1,2,3,4}"
   ]
  },
  {
   "cell_type": "markdown",
   "id": "053b0d6e-197f-4026-a6bb-6dd2e5f682f8",
   "metadata": {},
   "source": [
    "**list**"
   ]
  },
  {
   "cell_type": "code",
   "execution_count": 1,
   "id": "43dfffe1-4414-457d-999f-20c949668b4f",
   "metadata": {},
   "outputs": [],
   "source": [
    "values = [1,2,3,4]"
   ]
  },
  {
   "cell_type": "code",
   "execution_count": 2,
   "id": "99f944aa-d628-49aa-a6ed-e139cba7c8a3",
   "metadata": {},
   "outputs": [
    {
     "data": {
      "text/plain": [
       "[1, 2, 3, 4]"
      ]
     },
     "execution_count": 2,
     "metadata": {},
     "output_type": "execute_result"
    }
   ],
   "source": [
    "values"
   ]
  },
  {
   "cell_type": "code",
   "execution_count": 3,
   "id": "01bfd470-3f08-4cc7-80a9-16956150439a",
   "metadata": {},
   "outputs": [
    {
     "data": {
      "text/plain": [
       "4"
      ]
     },
     "execution_count": 3,
     "metadata": {},
     "output_type": "execute_result"
    }
   ],
   "source": [
    "# checking the length of the list\n",
    "len(values)"
   ]
  },
  {
   "cell_type": "code",
   "execution_count": null,
   "id": "c782ab8b-6eef-40b9-8e0c-6816564d8f5d",
   "metadata": {},
   "outputs": [],
   "source": []
  }
 ],
 "metadata": {
  "kernelspec": {
   "display_name": "Python 3 (ipykernel)",
   "language": "python",
   "name": "python3"
  },
  "language_info": {
   "codemirror_mode": {
    "name": "ipython",
    "version": 3
   },
   "file_extension": ".py",
   "mimetype": "text/x-python",
   "name": "python",
   "nbconvert_exporter": "python",
   "pygments_lexer": "ipython3",
   "version": "3.10.5"
  }
 },
 "nbformat": 4,
 "nbformat_minor": 5
}
