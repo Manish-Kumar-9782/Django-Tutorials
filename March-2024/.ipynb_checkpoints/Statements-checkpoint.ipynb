{
 "cells": [
  {
   "cell_type": "markdown",
   "id": "33b41a65-b85b-4767-9d84-7272235bca78",
   "metadata": {},
   "source": [
    "## Statements"
   ]
  },
  {
   "cell_type": "markdown",
   "id": "37673fe9-4344-452b-bb33-5d7ed9b10748",
   "metadata": {},
   "source": [
    "**Simple if statement**\n",
    "\n",
    "```python\n",
    "if condtion or expression or True or False:\n",
    "    # process statements\n",
    "```"
   ]
  },
  {
   "cell_type": "markdown",
   "id": "c2716d9b-a4f6-432b-b3b0-602e101d0246",
   "metadata": {},
   "source": [
    "**Simple If Else Statement**\n",
    "\n",
    "```python\n",
    "if condtion or expression or True or False:\n",
    "    # process statements\n",
    "else:\n",
    "    # else statements\n",
    "```"
   ]
  },
  {
   "cell_type": "markdown",
   "id": "4b1925d6-e712-419f-bcc3-5685fc3c59ca",
   "metadata": {},
   "source": [
    "**Multiple if else statement**\n",
    "\n",
    "```python\n",
    "if condtion or expression or True or False:\n",
    "    # process statements\n",
    "elif condtion or expression or True or False:\n",
    "    # 2nd process statement\n",
    "elif condtion or expression or True or False:\n",
    "    # 3rd process statement\n",
    "else:\n",
    "    # else statement\n",
    "```"
   ]
  },
  {
   "cell_type": "code",
   "execution_count": 1,
   "id": "5d4a087b-7665-4fce-b511-c34c1e48d0de",
   "metadata": {},
   "outputs": [
    {
     "data": {
      "text/plain": [
       "[1, 2, 3, 4, 5, 6, 7, 8, 9, 10, 11, 12, 13, 14, 15, 16, 17, 18, 19, 20]"
      ]
     },
     "execution_count": 1,
     "metadata": {},
     "output_type": "execute_result"
    }
   ],
   "source": [
    "list(range(1,21))"
   ]
  },
  {
   "cell_type": "code",
   "execution_count": null,
   "id": "87c536c3-74a3-4ad5-9769-e12ad38e06a8",
   "metadata": {},
   "outputs": [],
   "source": []
  },
  {
   "cell_type": "code",
   "execution_count": null,
   "id": "6dca1bfa-6102-4c9a-b435-5022e6e23df2",
   "metadata": {},
   "outputs": [],
   "source": []
  }
 ],
 "metadata": {
  "kernelspec": {
   "display_name": "Python 3 (ipykernel)",
   "language": "python",
   "name": "python3"
  },
  "language_info": {
   "codemirror_mode": {
    "name": "ipython",
    "version": 3
   },
   "file_extension": ".py",
   "mimetype": "text/x-python",
   "name": "python",
   "nbconvert_exporter": "python",
   "pygments_lexer": "ipython3",
   "version": "3.10.5"
  }
 },
 "nbformat": 4,
 "nbformat_minor": 5
}
